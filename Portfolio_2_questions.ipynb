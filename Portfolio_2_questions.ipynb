{
  "cells": [
    {
      "cell_type": "markdown",
      "id": "rSF_UH-XklO4",
      "metadata": {
        "id": "rSF_UH-XklO4"
      },
      "source": [
        "## Analysis of a Car Sell Dataset Part 2"
      ]
    },
    {
      "cell_type": "markdown",
      "id": "aWJHrXuwklO5",
      "metadata": {
        "id": "aWJHrXuwklO5"
      },
      "source": [
        "There are two goals in the second analysis task: (1), train linear regression models to predict the selling prices of cars; (2) assess the data ethics issues. There are *7* questions in this portfolio.\n",
        "\n",
        "The first goal involves a standard Data Science workflow: exploring data, building models, making predictions, and evaluating results. In this task, we will explore the impacts of feature selections and different sizes of training/testing data on the model performance. We will use another cleaned car_sells sub-dataset that **is different from** the one in “Analysis of a Car Sell Dataset” task 1. This goal covers Questions *1-6*.\n",
        "\n",
        "Question *7* is about data ethics issue."
      ]
    },
    {
      "cell_type": "code",
      "execution_count": 1,
      "id": "f2b11c57",
      "metadata": {
        "id": "f2b11c57"
      },
      "outputs": [],
      "source": [
        "your_name = \"Rachit Kumar Agrawal\"\n",
        "your_student_id = \"48046493\""
      ]
    },
    {
      "cell_type": "code",
      "execution_count": 2,
      "id": "0e327626",
      "metadata": {
        "id": "0e327626"
      },
      "outputs": [],
      "source": [
        "import pandas as pd\n",
        "import numpy as np\n",
        "from sklearn.model_selection import train_test_split\n",
        "from sklearn import linear_model\n",
        "from sklearn.metrics import r2_score\n",
        "\n",
        "import seaborn as sns\n",
        "import matplotlib.pylab as plt\n",
        "%matplotlib inline"
      ]
    },
    {
      "cell_type": "markdown",
      "id": "0g4OhHHzklO6",
      "metadata": {
        "id": "0g4OhHHzklO6"
      },
      "source": [
        "### Q1: Import Cleaned Car Sell Dataset\n",
        "The csv file named 'car_sells_clean_data.csv' is provided. You may need to use the Pandas method, i.e., `read_csv`, for reading it. After that, please print out its total length."
      ]
    },
    {
      "cell_type": "code",
      "execution_count": 3,
      "id": "9ki1LBees70W",
      "metadata": {
        "colab": {
          "base_uri": "https://localhost:8080/"
        },
        "id": "9ki1LBees70W",
        "outputId": "cdf85594-5851-4eaa-f5fe-88c5e6e30025"
      },
      "outputs": [
        {
          "output_type": "stream",
          "name": "stdout",
          "text": [
            "3657\n"
          ]
        }
      ],
      "source": [
        "read_csv = pd.read_csv('car_sells_clean_data.csv')\n",
        "print(len(read_csv))"
      ]
    },
    {
      "cell_type": "markdown",
      "id": "RpXf1q3UklO7",
      "metadata": {
        "id": "RpXf1q3UklO7"
      },
      "source": [
        "### Q2: Explore the Dataset\n",
        "\n",
        "* Use the methods, i.e., `head()` and `info()`, to have a rough picture about the data, e.g., how many columns, and the data types of each column.\n",
        "* As our goal is to predict cars' selling prices given other columns, please get the correlations between year/km_driven/seller_type/fuel/owner and selling_price by using the `corr()` method.\n",
        "* To get the correlations between different features, you may need to first convert the categorical features (i.e., seller_type and owner) into numerial values. For doing this, you may need to import `OrdinalEncoder` from `sklearn.preprocessing` (refer to the useful exmaples [here](https://pbpython.com/categorical-encoding.html))\n",
        "* Please provide ___necessary explanations/analysis___ on the correlations, and figure out which are the ___most___ and ___least___ corrleated features regarding selling_price. Try to ___discuss___ how the correlation will affect the final prediction results, if we use these features to train a regression model for selling_price prediction. In what follows, we will conduct experiments to verify your hypothesis."
      ]
    },
    {
      "cell_type": "code",
      "execution_count": 4,
      "id": "7551c655",
      "metadata": {
        "colab": {
          "base_uri": "https://localhost:8080/"
        },
        "id": "7551c655",
        "outputId": "9392bbfa-24e5-46fd-efef-bf42b89b7ea8"
      },
      "outputs": [
        {
          "output_type": "stream",
          "name": "stdout",
          "text": [
            "                       name    year  selling_price  km_driven    fuel  \\\n",
            "0             Maruti 800 AC  2007.0          60000      70000  Petrol   \n",
            "1  Maruti Wagon R LXI Minor  2007.0         135000      50000  Petrol   \n",
            "2      Hyundai Verna 1.6 SX  2012.0         600000     100000  Diesel   \n",
            "3    Datsun RediGO T Option  2017.0         250000      46000  Petrol   \n",
            "4     Honda Amaze VX i-DTEC  2014.0         450000     141000  Diesel   \n",
            "\n",
            "  seller_type transmission         owner  \n",
            "0  Individual       Manual   First Owner  \n",
            "1  Individual       Manual   First Owner  \n",
            "2  Individual       Manual   First Owner  \n",
            "3  Individual       Manual   First Owner  \n",
            "4  Individual       Manual  Second Owner  \n",
            "<class 'pandas.core.frame.DataFrame'>\n",
            "RangeIndex: 3657 entries, 0 to 3656\n",
            "Data columns (total 8 columns):\n",
            " #   Column         Non-Null Count  Dtype  \n",
            "---  ------         --------------  -----  \n",
            " 0   name           3657 non-null   object \n",
            " 1   year           3657 non-null   float64\n",
            " 2   selling_price  3657 non-null   int64  \n",
            " 3   km_driven      3657 non-null   int64  \n",
            " 4   fuel           3657 non-null   object \n",
            " 5   seller_type    3657 non-null   object \n",
            " 6   transmission   3657 non-null   object \n",
            " 7   owner          3657 non-null   object \n",
            "dtypes: float64(1), int64(2), object(5)\n",
            "memory usage: 228.7+ KB\n",
            "year             0.411103\n",
            "km_driven       -0.177203\n",
            "seller_type     -0.208637\n",
            "fuel            -0.277627\n",
            "owner           -0.205524\n",
            "selling_price    1.000000\n",
            "Name: selling_price, dtype: float64\n",
            "\n",
            "Most correlated feature: selling_price with correlation 1.00\n",
            "Least correlated feature: fuel with correlation -0.28\n"
          ]
        }
      ],
      "source": [
        "print(read_csv.head())\n",
        "read_csv.info()\n",
        "\n",
        "from sklearn.preprocessing import OrdinalEncoder\n",
        "# Copying the dataset to avoid modifying the original\n",
        "data_copy = read_csv.copy()\n",
        "encoder = OrdinalEncoder()\n",
        "# Encoding categorical features: seller_type, fuel, and owner\n",
        "data_copy[['seller_type', 'fuel', 'owner']] = encoder.fit_transform(data_copy[['seller_type', 'fuel', 'owner']])\n",
        "selected_columns = ['year', 'km_driven', 'seller_type', 'fuel', 'owner', 'selling_price']\n",
        "# Calculating the correlation matrix for the selected features\n",
        "correlation_with_selling_price = data_copy[selected_columns].corr()['selling_price']\n",
        "print(correlation_with_selling_price)\n",
        "# Identifying the most and least correlated features with selling_price\n",
        "most_correlated = correlation_with_selling_price.idxmax()\n",
        "least_correlated = correlation_with_selling_price.idxmin()\n",
        "print(f\"\\nMost correlated feature: {most_correlated} with correlation {correlation_with_selling_price[most_correlated]:.2f}\")\n",
        "print(f\"Least correlated feature: {least_correlated} with correlation {correlation_with_selling_price[least_correlated]:.2f}\")\n"
      ]
    },
    {
      "cell_type": "markdown",
      "source": [
        "# Explaination & Analysis for Q.2\n",
        "\n",
        "*   The most correlated feature is selling price with correlation 1.00\n",
        "*   The least correleated feature is fuel with correlation -0.28\n",
        "\n",
        "If year is the most correlated, it suggests that newer cars tend to have higher prices, and including year in a regression model would likely improve its accuracy.\n",
        "\n",
        "If owner is the least correlated, it suggests that the number of previous owners may not have a strong effect on the selling price. Including this feature in the model might not contribute much to the prediction accuracy.\n",
        "\n",
        "Strongly Correlated Features: Including strongly correlated features will help the model make better predictions, as these features have a clear linear relationship with the target variable. Whereas, Including features with low or no correlation could introduce noise into the model, potentially leading to overfitting or reducing the model's performance\n",
        "\n",
        "\n",
        "\n",
        "\n",
        "\n",
        "\n"
      ],
      "metadata": {
        "id": "BLNlBeYkXR_z"
      },
      "id": "BLNlBeYkXR_z"
    },
    {
      "cell_type": "markdown",
      "id": "C3DFUuGXklO_",
      "metadata": {
        "id": "C3DFUuGXklO_"
      },
      "source": [
        "### Q3: Split Training and Testing Data\n",
        "* Machine learning models are trained to help make predictions for the future. Normally, we need to randomly split the dataset into training and testing sets, where we use the training set to train the model, and then leverage the well-trained model to make predictions on the testing set.\n",
        "* To further investigate whether the size of the training/testing data affects the model performance, please randomly split the data into training and testing sets with different sizes:\n",
        "    * Case 1: training data containing 10% of the entire data;\n",
        "    * Case 2: training data containing 90% of the entire data.\n",
        "* Print the shape of training and testing sets in the two cases."
      ]
    },
    {
      "cell_type": "code",
      "execution_count": 5,
      "id": "47f6b5cd",
      "metadata": {
        "id": "47f6b5cd",
        "colab": {
          "base_uri": "https://localhost:8080/"
        },
        "outputId": "17685008-8e6a-482b-9da7-ea1aa3cadc7f"
      },
      "outputs": [
        {
          "output_type": "stream",
          "name": "stdout",
          "text": [
            "Case 1 - Training set shape: (365, 7) (365,)\n",
            "Case 1 - Testing set shape: (3292, 7) (3292,)\n",
            "Case 2 - Training set shape: (3291, 7) (3291,)\n",
            "Case 2 - Testing set shape: (366, 7) (366,)\n"
          ]
        }
      ],
      "source": [
        "# Defining X (features) and y (target)\n",
        "X = read_csv.drop(columns=['selling_price'])\n",
        "y = read_csv['selling_price']\n",
        "\n",
        "# Case 1: Training data containing 10% of the entire data\n",
        "X_case1_train, X_case1_test, y_case1_train, y_case1_test = train_test_split(X, y, test_size=0.9, random_state=42)\n",
        "\n",
        "# Case 2: Training data containing 90% of the entire data\n",
        "X_case2_train, X_case2_test, y_case2_train, y_case2_test = train_test_split(X, y, test_size=0.1, random_state=42)\n",
        "\n",
        "# Printing the shapes of the training and testing sets for both cases\n",
        "print(\"Case 1 - Training set shape:\", X_case1_train.shape, y_case1_train.shape)\n",
        "print(\"Case 1 - Testing set shape:\", X_case1_test.shape, y_case1_test.shape)\n",
        "\n",
        "print(\"Case 2 - Training set shape:\", X_case2_train.shape, y_case2_train.shape)\n",
        "print(\"Case 2 - Testing set shape:\", X_case2_test.shape, y_case2_test.shape)"
      ]
    },
    {
      "cell_type": "markdown",
      "id": "WiNRCPFoklO_",
      "metadata": {
        "id": "WiNRCPFoklO_"
      },
      "source": [
        "### Q4: Train Linear Regression Models with Feature Selection under Cases 1 & 2\n",
        "* When training a machine learning model for prediction, we may need to select the most important/correlated input features for more accurate results.\n",
        "* To investigate whether feature selection affects the model performance, please select two most correlated features and two least correlated features regarding selling_price, respectively.\n",
        "* Train four linear regression models by following the conditions:\n",
        "    - (model-a) using the training/testing data in case 1 with two most correlated input features\n",
        "    - (model-b) using the training/testing data in case 1 with two least correlated input features\n",
        "    - (model-c) using the training/testing data in case 2 with two most correlated input features\n",
        "    - (model-d) using the training/testing data in case 2 with two least correlated input features\n",
        "* By doing this, we can verify the impacts of the size of traing/testing data on the model performance via comparing model-a and model-c (or model-b and model-d); meanwhile the impacts of feature selection can be validated via comparing model-a and model-b (or model-c and model-d).    "
      ]
    },
    {
      "cell_type": "code",
      "execution_count": 14,
      "id": "7bcd6158",
      "metadata": {
        "id": "7bcd6158",
        "colab": {
          "base_uri": "https://localhost:8080/"
        },
        "outputId": "a0f7cf0b-e923-45b2-9254-ffd44f651517"
      },
      "outputs": [
        {
          "output_type": "stream",
          "name": "stdout",
          "text": [
            "Model-a MSE (Case 1, Most Correlated): 258450435689.8825\n",
            "Model-b MSE (Case 1, Least Correlated): 266681585015.41327\n",
            "Model-c MSE (Case 2, Most Correlated): 160303155228.53854\n",
            "Model-d MSE (Case 2, Least Correlated): 172632031305.7849\n"
          ]
        }
      ],
      "source": [
        "from sklearn.preprocessing import OrdinalEncoder\n",
        "from sklearn.linear_model import LinearRegression\n",
        "from sklearn.metrics import mean_squared_error\n",
        "\n",
        "# Using the selected most and least correlated features (replace with your actual features)\n",
        "most_correlated_features = ['year', 'km_driven']  # Example\n",
        "least_correlated_features = ['fuel', 'owner']     # Example\n",
        "\n",
        "# Initialize OrdinalEncoder\n",
        "encoder = OrdinalEncoder()\n",
        "\n",
        "# Encode the categorical features in case 1\n",
        "X_case1_train_least_encoded = X_case1_train[least_correlated_features].copy()\n",
        "X_case1_test_least_encoded = X_case1_test[least_correlated_features].copy()\n",
        "\n",
        "X_case1_train_least_encoded = encoder.fit_transform(X_case1_train_least_encoded)\n",
        "X_case1_test_least_encoded = encoder.transform(X_case1_test_least_encoded)\n",
        "\n",
        "# Encode the categorical features in case 2\n",
        "X_case2_train_least_encoded = X_case2_train[least_correlated_features].copy()\n",
        "X_case2_test_least_encoded = X_case2_test[least_correlated_features].copy()\n",
        "\n",
        "X_case2_train_least_encoded = encoder.fit_transform(X_case2_train_least_encoded)\n",
        "X_case2_test_least_encoded = encoder.transform(X_case2_test_least_encoded)\n",
        "\n",
        "# Model-a: Case 1 with two most correlated features\n",
        "X_case1_train_most = X_case1_train[most_correlated_features]\n",
        "X_case1_test_most = X_case1_test[most_correlated_features]\n",
        "\n",
        "model_a = LinearRegression()\n",
        "model_a.fit(X_case1_train_most, y_case1_train)\n",
        "y_pred_a = model_a.predict(X_case1_test_most)\n",
        "mse_a = mean_squared_error(y_case1_test, y_pred_a)\n",
        "\n",
        "# Model-b: Case 1 with two least correlated features (encoded)\n",
        "model_b = LinearRegression()\n",
        "model_b.fit(X_case1_train_least_encoded, y_case1_train)\n",
        "y_pred_b = model_b.predict(X_case1_test_least_encoded)\n",
        "mse_b = mean_squared_error(y_case1_test, y_pred_b)\n",
        "\n",
        "# Model-c: Case 2 with two most correlated features\n",
        "X_case2_train_most = X_case2_train[most_correlated_features]\n",
        "X_case2_test_most = X_case2_test[most_correlated_features]\n",
        "\n",
        "model_c = LinearRegression()\n",
        "model_c.fit(X_case2_train_most, y_case2_train)\n",
        "y_pred_c = model_c.predict(X_case2_test_most)\n",
        "mse_c = mean_squared_error(y_case2_test, y_pred_c)\n",
        "\n",
        "# Model-d: Case 2 with two least correlated features (encoded)\n",
        "model_d = LinearRegression()\n",
        "model_d.fit(X_case2_train_least_encoded, y_case2_train)\n",
        "y_pred_d = model_d.predict(X_case2_test_least_encoded)\n",
        "mse_d = mean_squared_error(y_case2_test, y_pred_d)\n",
        "\n",
        "# Print the Mean Squared Errors for comparison\n",
        "print(\"Model-a MSE (Case 1, Most Correlated):\", mse_a)\n",
        "print(\"Model-b MSE (Case 1, Least Correlated):\", mse_b)\n",
        "print(\"Model-c MSE (Case 2, Most Correlated):\", mse_c)\n",
        "print(\"Model-d MSE (Case 2, Least Correlated):\", mse_d)\n"
      ]
    },
    {
      "cell_type": "markdown",
      "id": "uIHDIRCYklO_",
      "metadata": {
        "id": "uIHDIRCYklO_"
      },
      "source": [
        "### Q5: Evaluate Models\n",
        "* Evaluate the performance of the four models with two metrics, including MSE and Root MSE\n",
        "* Print the results of the four models regarding the two metrics"
      ]
    },
    {
      "cell_type": "code",
      "execution_count": 21,
      "id": "61621c39",
      "metadata": {
        "id": "61621c39",
        "colab": {
          "base_uri": "https://localhost:8080/"
        },
        "outputId": "27f5069c-1df6-4949-b37b-a208a73c9e77"
      },
      "outputs": [
        {
          "output_type": "stream",
          "name": "stdout",
          "text": [
            "Model-a (Case 1, Most Correlated) - MSE: 258450435689.8825 , RMSE: 508380.2078069941\n",
            "Model-b (Case 1, Least Correlated) - MSE: 266681585015.41327 , RMSE: 516412.22392136813\n",
            "Model-c (Case 2, Most Correlated) - MSE: 160303155228.53854 , RMSE: 400378.7647072938\n",
            "Model-d (Case 2, Least Correlated) - MSE: 172632031305.7849 , RMSE: 415490.10975688085\n"
          ]
        }
      ],
      "source": [
        "# Function to calculate both MSE and RMSE\n",
        "def evaluate_model(y_true, y_pred):\n",
        "    mse = mean_squared_error(y_true, y_pred)\n",
        "    rmse = np.sqrt(mse)\n",
        "    return mse, rmse\n",
        "\n",
        "# Evaluate model-a (Case 1 with two most correlated features)\n",
        "mse_a, rmse_a = evaluate_model(y_case1_test, y_pred_a)\n",
        "\n",
        "# Evaluate model-b (Case 1 with two least correlated features)\n",
        "mse_b, rmse_b = evaluate_model(y_case1_test, y_pred_b)\n",
        "\n",
        "# Evaluate model-c (Case 2 with two most correlated features)\n",
        "mse_c, rmse_c = evaluate_model(y_case2_test, y_pred_c)\n",
        "\n",
        "# Evaluate model-d (Case 2 with two least correlated features)\n",
        "mse_d, rmse_d = evaluate_model(y_case2_test, y_pred_d)\n",
        "\n",
        "# Print the evaluation results for all models\n",
        "print(\"Model-a (Case 1, Most Correlated) - MSE:\", mse_a, \", RMSE:\", rmse_a)\n",
        "print(\"Model-b (Case 1, Least Correlated) - MSE:\", mse_b, \", RMSE:\", rmse_b)\n",
        "print(\"Model-c (Case 2, Most Correlated) - MSE:\", mse_c, \", RMSE:\", rmse_c)\n",
        "print(\"Model-d (Case 2, Least Correlated) - MSE:\", mse_d, \", RMSE:\", rmse_d)\n"
      ]
    },
    {
      "cell_type": "markdown",
      "id": "6wmgPAzpklPA",
      "metadata": {
        "id": "6wmgPAzpklPA"
      },
      "source": [
        "### Q6: Visualize, Compare and Analyze the Results\n",
        "* Visulize the results, and perform ___insightful analysis___ on the obtained results. For better visualization, you may need to carefully set the scale for the y-axis.\n",
        "* Normally, the model trained with most correlated features and more training data will get better results. Do you obtain the similar observations? If not, please ___explain the possible reasons___."
      ]
    },
    {
      "cell_type": "code",
      "execution_count": 22,
      "id": "u0dpqTCmklPA",
      "metadata": {
        "id": "u0dpqTCmklPA",
        "colab": {
          "base_uri": "https://localhost:8080/",
          "height": 607
        },
        "outputId": "c5592821-ab50-4c5d-f307-6260fb869cfa"
      },
      "outputs": [
        {
          "output_type": "display_data",
          "data": {
            "text/plain": [
              "<Figure size 1200x600 with 2 Axes>"
            ],
            "image/png": "[encoded data removed]"
          },
          "metadata": {}
        }
      ],
      "source": [
        "# Data for visualization\n",
        "models = ['Model-a (Most, 10%)', 'Model-b (Least, 10%)', 'Model-c (Most, 90%)', 'Model-d (Least, 90%)']\n",
        "mse_values = [mse_a, mse_b, mse_c, mse_d]\n",
        "rmse_values = [rmse_a, rmse_b, rmse_c, rmse_d]\n",
        "\n",
        "# Plotting MSE\n",
        "plt.figure(figsize=(12, 6))\n",
        "\n",
        "plt.subplot(1, 2, 1)  # Subplot for MSE\n",
        "plt.bar(models, mse_values, color=['blue', 'orange', 'green', 'red'])\n",
        "plt.ylabel('MSE')\n",
        "plt.title('Model Performance Comparison (MSE)')\n",
        "plt.yscale('log')  # Setting y-axis to log scale for better visualization\n",
        "plt.xticks(rotation=45, ha='right')  # Rotate x-axis labels for readability\n",
        "\n",
        "# Plotting RMSE\n",
        "plt.subplot(1, 2, 2)  # Subplot for RMSE\n",
        "plt.bar(models, rmse_values, color=['blue', 'orange', 'green', 'red'])\n",
        "plt.ylabel('RMSE')\n",
        "plt.title('Model Performance Comparison (RMSE)')\n",
        "plt.yscale('log')  # Setting y-axis to log scale for better visualization\n",
        "plt.xticks(rotation=45, ha='right')  # Rotate x-axis labels for readability\n",
        "\n",
        "plt.tight_layout()\n",
        "plt.show()\n"
      ]
    },
    {
      "cell_type": "markdown",
      "id": "f97796c2",
      "metadata": {
        "id": "f97796c2"
      },
      "source": [
        "### Q7: Data Science Ethics\n",
        "*Please read the following examples [Click here to read the example_1.](https://www.vox.com/covid-19-coronavirus-us-response-trump/2020/5/18/21262265/georgia-covid-19-cases-declining-reopening) [Click here to read the example_2.](https://viborc.com/ethics-and-ethical-data-visualization-a-complete-guide/)\n",
        "\n",
        "*Then view the picture ![My Image](figure_portfolio2.png \"This is my image\")\n",
        "Please compose an analysis of 100-200 words that evaluates potential ethical concerns associated with the infographic, detailing the reasons behind these issues.\n"
      ]
    },
    {
      "cell_type": "markdown",
      "source": [
        "# Q.7 Answer:\n",
        "Several ethical issues are highlighted in data visualization based on the two articles. For example, the Georgia COVID-19 graph manipulated the order of data to falsely suggest a decrease in cases, breaching ethical principles of accuracy and transparency. The Viborc guide stresses that ethical visualizations must prioritize clarity, avoid distortion, and provide proper context.\n",
        "\n",
        "Similarly, the Olympic medal infographic may have ethical problems such as selective representation and lack of broader context. Emphasizing specific medal counts can skew the perceived performance of countries, resulting in biased interpretations. To prevent misleading narratives, it is crucial to ensure clarity and provide adequate context.\n"
      ],
      "metadata": {
        "id": "LmQ1XFiVb8Vg"
      },
      "id": "LmQ1XFiVb8Vg"
    }
  ],
  "metadata": {
    "colab": {
      "provenance": []
    },
    "kernelspec": {
      "display_name": "Python 3 (ipykernel)",
      "language": "python",
      "name": "python3"
    },
    "language_info": {
      "codemirror_mode": {
        "name": "ipython",
        "version": 3
      },
      "file_extension": ".py",
      "mimetype": "text/x-python",
      "name": "python",
      "nbconvert_exporter": "python",
      "pygments_lexer": "ipython3",
      "version": "3.11.5"
    }
  },
  "nbformat": 4,
  "nbformat_minor": 5
}